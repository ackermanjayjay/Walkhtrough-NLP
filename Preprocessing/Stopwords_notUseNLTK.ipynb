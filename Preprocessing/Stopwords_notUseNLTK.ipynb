{
  "nbformat": 4,
  "nbformat_minor": 0,
  "metadata": {
    "colab": {
      "provenance": []
    },
    "kernelspec": {
      "name": "python3",
      "display_name": "Python 3"
    },
    "language_info": {
      "name": "python"
    }
  },
  "cells": [
    {
      "cell_type": "code",
      "execution_count": 44,
      "metadata": {
        "id": "nfbpQX_c6iwP"
      },
      "outputs": [],
      "source": [
        "tulisan=\"aku dan teman-teman suka jalan\""
      ]
    },
    {
      "cell_type": "code",
      "source": [
        "stp=[\"dan\"]"
      ],
      "metadata": {
        "id": "kzzhbdsb6qdN"
      },
      "execution_count": 45,
      "outputs": []
    },
    {
      "cell_type": "code",
      "source": [
        "# https://stackoverflow.com/questions/952914/how-do-i-make-a-flat-list-out-of-a-list-of-lists?page=1&tab=scoredesc#tab-top\n",
        "def flatten(l):\n",
        "    \"\"\"\n",
        "    Same as \n",
        "    flat_list = []\n",
        "    for sublist in l:\n",
        "    for item in sublist:\n",
        "        flat_list.append(item)\n",
        "\n",
        "    Example =[[1,2,3,4,5]] - > [1,2,3,4,5]\n",
        "    \"\"\"\n",
        "    return \" \".join([item for sublist in l for item in sublist])\n"
      ],
      "metadata": {
        "id": "8LX8Yz2PB59p"
      },
      "execution_count": 46,
      "outputs": []
    },
    {
      "cell_type": "code",
      "source": [
        "filter_words=[]\n",
        "tulisan=tulisan.split()\n",
        "tulisan=[word for word in tulisan if word not  in stp]\n",
        "filter_words.append(tulisan)"
      ],
      "metadata": {
        "id": "B3HS3t8h-Bfh"
      },
      "execution_count": 47,
      "outputs": []
    },
    {
      "cell_type": "code",
      "source": [
        "filter_words"
      ],
      "metadata": {
        "colab": {
          "base_uri": "https://localhost:8080/"
        },
        "id": "I1JkZUUrFFZI",
        "outputId": "e1f4cf91-49a0-43d6-d582-289aedde0592"
      },
      "execution_count": 48,
      "outputs": [
        {
          "output_type": "execute_result",
          "data": {
            "text/plain": [
              "[['aku', 'teman-teman', 'suka', 'jalan']]"
            ]
          },
          "metadata": {},
          "execution_count": 48
        }
      ]
    },
    {
      "cell_type": "code",
      "source": [
        "flat_word=flatten(filter_words)"
      ],
      "metadata": {
        "id": "yMUtXBkSF56j"
      },
      "execution_count": 49,
      "outputs": []
    },
    {
      "cell_type": "code",
      "source": [
        "flat_word"
      ],
      "metadata": {
        "colab": {
          "base_uri": "https://localhost:8080/",
          "height": 36
        },
        "id": "iDhmvK1LF9Jr",
        "outputId": "3bbaaeab-4e0e-49db-9b12-0078a22b613f"
      },
      "execution_count": 50,
      "outputs": [
        {
          "output_type": "execute_result",
          "data": {
            "text/plain": [
              "'aku teman-teman suka jalan'"
            ],
            "application/vnd.google.colaboratory.intrinsic+json": {
              "type": "string"
            }
          },
          "metadata": {},
          "execution_count": 50
        }
      ]
    }
  ]
}